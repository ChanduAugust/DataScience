{
 "cells": [
  {
   "cell_type": "code",
   "execution_count": 1,
   "id": "25541b5e",
   "metadata": {},
   "outputs": [
    {
     "name": "stdout",
     "output_type": "stream",
     "text": [
      "Enter a string: Chandra Sekhar\n",
      "Length of the input string is: 14\n"
     ]
    }
   ],
   "source": [
    "str = input(\"Enter a string: \")\n",
    "print(\"Length of the input string is:\", len(str))"
   ]
  },
  {
   "cell_type": "code",
   "execution_count": 2,
   "id": "24adf4a1",
   "metadata": {},
   "outputs": [
    {
     "name": "stdout",
     "output_type": "stream",
     "text": [
      "{'t': 2, 'u': 1, 'o': 2, 'r': 1, 'j': 1, 'e': 1, 's': 1}\n"
     ]
    }
   ],
   "source": [
    "str =\"tutorjoes\"\n",
    "dict = {}\n",
    "for c in str:\n",
    "\tkeys = dict.keys()\n",
    "\tif c in keys:\n",
    "\t\tdict[c] += 1\n",
    "\telse:\n",
    "\t\tdict[c] = 1\n",
    "print(dict)"
   ]
  },
  {
   "cell_type": "code",
   "execution_count": 3,
   "id": "42cae2bc",
   "metadata": {},
   "outputs": [
    {
     "name": "stdout",
     "output_type": "stream",
     "text": [
      "Given String : tutor joes\n",
      "After String : tu@or joes\n"
     ]
    }
   ],
   "source": [
    "str=\"tutor joes\"\n",
    "print(\"Given String :\",str)\n",
    "ch = str[0]\n",
    "str = str.replace(ch, '@')\n",
    "str = ch + str[1:]\n",
    "print(\"After String :\",str)"
   ]
  },
  {
   "cell_type": "code",
   "execution_count": 4,
   "id": "ed1618c0",
   "metadata": {},
   "outputs": [
    {
     "name": "stdout",
     "output_type": "stream",
     "text": [
      "Before Swap : abc   xyz\n",
      "After Swap : xyc   abz\n"
     ]
    }
   ],
   "source": [
    "a = 'abc'\n",
    "b = 'xyz'\n",
    "print(\"Before Swap :\",a,\" \",b)\n",
    "a1 = b[:2] + a[2:]\n",
    "b1 = a[:2] + b[2:]\n",
    "print(\"After Swap :\",a1,\" \",b1)"
   ]
  },
  {
   "cell_type": "code",
   "execution_count": 6,
   "id": "20a4b7bb",
   "metadata": {},
   "outputs": [
    {
     "name": "stdout",
     "output_type": "stream",
     "text": [
      "Enter a string: Tutor Joes\n",
      "Tutor Joes\n",
      "Enter a character to remove: t\n",
      "Tuor Joes\n"
     ]
    }
   ],
   "source": [
    "str = input(\"Enter a string: \")\n",
    "print(str)\n",
    "n = input (\"Enter a character to remove: \")\n",
    "str = str.replace(n,\"\")\n",
    "print(str)\n"
   ]
  },
  {
   "cell_type": "code",
   "execution_count": 7,
   "id": "f08b3623",
   "metadata": {},
   "outputs": [
    {
     "name": "stdout",
     "output_type": "stream",
     "text": [
      "Before Swap : Python\n",
      "After Swap : nythoP\n"
     ]
    }
   ],
   "source": [
    "str = \"Python\"\n",
    "print(\"Before Swap :\",str)\n",
    "s = str[0]\n",
    "e = str[-1]\n",
    "res = e + str[1:-1] + s\n",
    "print(\"After Swap :\",res)"
   ]
  },
  {
   "cell_type": "code",
   "execution_count": 8,
   "id": "f6cddf6c",
   "metadata": {},
   "outputs": [
    {
     "name": "stdout",
     "output_type": "stream",
     "text": [
      "Original String : Computer Education\n",
      "Remove Odd Index Char : Cmue dcto\n"
     ]
    }
   ],
   "source": [
    "str=\"Computer Education\"\n",
    "res = \"\"\n",
    "print(\"Original String :\",str) \n",
    "for i in range(len(str)):\n",
    "\tif i % 2 == 0:\n",
    "\t  res = res + str[i]\n",
    "print(\"Remove Odd Index Char :\",res)"
   ]
  },
  {
   "cell_type": "code",
   "execution_count": null,
   "id": "bf5b0a89",
   "metadata": {},
   "outputs": [],
   "source": [
    "str = \"To change the overall look your document. To change the look available in the gallery\"\n",
    "c = dict()\n",
    "txt = str.split(\" \")\n",
    "for t in txt:\n",
    "\tif t in c:\n",
    "\t\tc[t] += 1\n",
    "\telse:\n",
    "\t\tc[t] = 1\n",
    "print(c)"
   ]
  },
  {
   "cell_type": "code",
   "execution_count": 24,
   "id": "7653626c",
   "metadata": {},
   "outputs": [
    {
     "name": "stdout",
     "output_type": "stream",
     "text": [
      "Enter the String :Tutor Joes\n",
      "Given String : Tutor Joes\n",
      "UpperCase :TUTOR JOES\n",
      "LowerCase :tutor joes\n"
     ]
    }
   ],
   "source": [
    "str = input(\"Enter the String :\")\n",
    "print(\"Given String :\",str)\n",
    "print(\"UpperCase :\"+ str.upper())\n",
    "print(\"LowerCase :\"+ str.lower())"
   ]
  },
  {
   "cell_type": "code",
   "execution_count": 25,
   "id": "b16e06e4",
   "metadata": {},
   "outputs": [
    {
     "name": "stdout",
     "output_type": "stream",
     "text": [
      "Enter the String :Computer\n",
      "retupmoC\n"
     ]
    }
   ],
   "source": [
    "str=input(\"Enter the String :\")\n",
    "if len(str) % 4 == 0:\n",
    "   print(''.join(reversed(str)))\n",
    "else:\n",
    "\tprint(str)"
   ]
  },
  {
   "cell_type": "code",
   "execution_count": 26,
   "id": "c896a22f",
   "metadata": {},
   "outputs": [
    {
     "name": "stdout",
     "output_type": "stream",
     "text": [
      "Enter the String :ComPuTeR\n",
      "COMPUTER\n",
      "ComPuTeR\n"
     ]
    }
   ],
   "source": [
    "str = input(\"Enter the String :\")\n",
    "num_upper = 0\n",
    "for letter in str[:4]: \n",
    "\tif letter.upper() == letter:\n",
    "\t\tnum_upper += 1\n",
    "if num_upper >= 2:\n",
    "\tprint(str.upper())\n",
    "print(str)"
   ]
  },
  {
   "cell_type": "code",
   "execution_count": null,
   "id": "99e9fddd",
   "metadata": {},
   "outputs": [],
   "source": [
    "s=input(\"Enter the String :\")\n",
    "print(sorted(sorted(s), key=str.upper))"
   ]
  },
  {
   "cell_type": "code",
   "execution_count": 33,
   "id": "da37f9fa",
   "metadata": {},
   "outputs": [
    {
     "name": "stdout",
     "output_type": "stream",
     "text": [
      "\n",
      "Tutor \n",
      "Joes \n",
      "Computer \n",
      "Education\n",
      "\n",
      "Tutor Joes Computer Education\n"
     ]
    }
   ],
   "source": [
    "str = \"\\nTutor \\nJoes \\nComputer \\nEducation\\n\"\n",
    "print(str)\n",
    "print(''.join(str.splitlines()))"
   ]
  },
  {
   "cell_type": "code",
   "execution_count": 34,
   "id": "e33a2285",
   "metadata": {},
   "outputs": [
    {
     "name": "stdout",
     "output_type": "stream",
     "text": [
      "True\n"
     ]
    }
   ],
   "source": [
    "str = \"Tutor Joes Computer Education\"\n",
    "print(str.startswith(\"Tu\"))"
   ]
  },
  {
   "cell_type": "code",
   "execution_count": 40,
   "id": "a5cc99df",
   "metadata": {},
   "outputs": [
    {
     "name": "stdout",
     "output_type": "stream",
     "text": [
      "Python is an interpreted, object-\n",
      "oriented, high-level programming\n",
      "language that can be used for a\n",
      "wide variety of applications.\n",
      "Python is a powerful general-\n",
      "purpose programming language.\n",
      "\n",
      " Python is an interpreted, object-oriented, high-level programming\n",
      "language that can be used for a wide variety of applications. Python\n",
      "is a powerful general-purpose programming language.\n"
     ]
    }
   ],
   "source": [
    "import textwrap\n",
    "para = \"\"\"Python is an interpreted, object-oriented, high-level programming language\n",
    "that can be used for a wide variety of applications. Python is a powerful\n",
    "general-purpose programming language.\"\"\"\n",
    "print(textwrap.fill(para, width=35))\n",
    "print(\"\\n\",textwrap.fill(para, width=70))"
   ]
  },
  {
   "cell_type": "code",
   "execution_count": 42,
   "id": "2544c7e5",
   "metadata": {},
   "outputs": [
    {
     "name": "stdout",
     "output_type": "stream",
     "text": [
      "Python is an interpreted, object-oriented, high-level programming language\n",
      "that can be used for a wide variety of applications. Python is a powerful\n",
      "general-purpose programming language.\n",
      "\n",
      " Python is an interpreted, object-oriented, high-level programming language\n",
      "that can be used for a wide variety of applications. Python is a powerful\n",
      "general-purpose programming language.\n"
     ]
    }
   ],
   "source": [
    "import textwrap\n",
    "para = \"\"\"Python is an interpreted, object-oriented, high-level programming language\n",
    "that can be used for a wide variety of applications. Python is a powerful\n",
    "general-purpose programming language.\"\"\"\n",
    "print(para)\n",
    "res = textwrap.dedent(para)\n",
    "print(\"\\n\",res)"
   ]
  },
  {
   "cell_type": "code",
   "execution_count": 45,
   "id": "88307bb3",
   "metadata": {},
   "outputs": [
    {
     "name": "stdout",
     "output_type": "stream",
     "text": [
      "Python is an interpreted, object-oriented, high-level programming language\n",
      "that can be used for a wide variety of applications. Python is a powerful\n",
      "general-purpose programming language.\n",
      "\n",
      " * Python is an interpreted, object-oriented, high-level programming\n",
      "* language that can be used for a wide variety of applications. Python\n",
      "* is a powerful general-purpose programming language.\n"
     ]
    }
   ],
   "source": [
    "import textwrap\n",
    "para = \"\"\"Python is an interpreted, object-oriented, high-level programming language\n",
    "that can be used for a wide variety of applications. Python is a powerful\n",
    "general-purpose programming language.\"\"\"\n",
    "print(para)\n",
    "without_Indent = textwrap.dedent(para)\n",
    "txt = textwrap.fill(without_Indent, width=70)\n",
    "res = textwrap.indent(txt, '* ')\n",
    "print(\"\\n\",res)\n"
   ]
  },
  {
   "cell_type": "code",
   "execution_count": null,
   "id": "d8a54869",
   "metadata": {},
   "outputs": [],
   "source": []
  }
 ],
 "metadata": {
  "kernelspec": {
   "display_name": "Python 3 (ipykernel)",
   "language": "python",
   "name": "python3"
  },
  "language_info": {
   "codemirror_mode": {
    "name": "ipython",
    "version": 3
   },
   "file_extension": ".py",
   "mimetype": "text/x-python",
   "name": "python",
   "nbconvert_exporter": "python",
   "pygments_lexer": "ipython3",
   "version": "3.11.5"
  }
 },
 "nbformat": 4,
 "nbformat_minor": 5
}
