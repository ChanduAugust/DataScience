{
 "cells": [
  {
   "cell_type": "code",
   "execution_count": null,
   "id": "b49c8bbc",
   "metadata": {},
   "outputs": [],
   "source": [
    "# Printing message \n",
    "message = \" There are seven oceans on Earth \"\n",
    "print(message)"
   ]
  },
  {
   "cell_type": "code",
   "execution_count": 6,
   "id": "d440c065",
   "metadata": {},
   "outputs": [
    {
     "name": "stdout",
     "output_type": "stream",
     "text": [
      " Fly high in the Sky\n"
     ]
    }
   ],
   "source": [
    "# Printing message storing in a variable\n",
    "a = \" Fly high in the Sky\"\n",
    "print(a)"
   ]
  },
  {
   "cell_type": "code",
   "execution_count": 7,
   "id": "aa1539a8",
   "metadata": {},
   "outputs": [
    {
     "name": "stdout",
     "output_type": "stream",
     "text": [
      " Python is easy to learn\n"
     ]
    }
   ],
   "source": [
    "# Changing message in same variable and printing it\n",
    "a = \" Python is easy to learn\"\n",
    "print(a)"
   ]
  },
  {
   "cell_type": "code",
   "execution_count": 9,
   "id": "79cea030",
   "metadata": {},
   "outputs": [
    {
     "name": "stdout",
     "output_type": "stream",
     "text": [
      "Hello Chandu, would you like to learn some Python today ?\n"
     ]
    }
   ],
   "source": [
    "# Printing person name with message \n",
    "name = \" Chandu\"\n",
    "print(\"Hello\" + name +\",\" +\" would you like to learn some Python today ?\")"
   ]
  },
  {
   "cell_type": "code",
   "execution_count": 12,
   "id": "bca7bc0e",
   "metadata": {},
   "outputs": [
    {
     "name": "stdout",
     "output_type": "stream",
     "text": [
      "Rudyard Kipling once said, \"He travels the fatsest who travels alone\"\n"
     ]
    }
   ],
   "source": [
    "# Printing person name and his famous quote\n",
    "person = \"Rudyard Kipling once said, \"\n",
    "quote = \"\\\"He travels the fatsest who travels alone\\\"\"\n",
    "print(person + quote)"
   ]
  },
  {
   "cell_type": "code",
   "execution_count": 13,
   "id": "87f68bfb",
   "metadata": {},
   "outputs": [
    {
     "name": "stdout",
     "output_type": "stream",
     "text": [
      "Sachin Tendulkar \" is the God of Cricket\"\n"
     ]
    }
   ],
   "source": [
    "# Printing own message \n",
    "famous_person = \"Sachin Tendulkar\"\n",
    "message = \" \\\" is the God of Cricket\\\"\"\n",
    "print(famous_person + message)"
   ]
  },
  {
   "cell_type": "code",
   "execution_count": 15,
   "id": "967538b8",
   "metadata": {},
   "outputs": [
    {
     "name": "stdout",
     "output_type": "stream",
     "text": [
      "8\n",
      "8\n",
      "8\n",
      "8\n"
     ]
    }
   ],
   "source": [
    "# Printing arithmetic operations output\n",
    "print(888-880)\n",
    "print(1+7)\n",
    "print(8*1)\n",
    "print(int(64/8))"
   ]
  },
  {
   "cell_type": "code",
   "execution_count": 18,
   "id": "cb18ed22",
   "metadata": {},
   "outputs": [
    {
     "name": "stdout",
     "output_type": "stream",
     "text": [
      "My favourite number is: 2\n"
     ]
    }
   ],
   "source": [
    "# Printing my favourite number \n",
    "favourite_number = 2\n",
    "print(\"My favourite number is: \" + str(favourite_number))"
   ]
  },
  {
   "cell_type": "code",
   "execution_count": 19,
   "id": "648ff441",
   "metadata": {},
   "outputs": [
    {
     "name": "stdout",
     "output_type": "stream",
     "text": [
      "Abhi\n",
      "Santhsoh\n",
      "Sai\n",
      "Chakri\n"
     ]
    }
   ],
   "source": [
    "names = [\"Abhi\",\"Santhsoh\",\"Sai\",\"Chakri\"]\n",
    "for x in names:\n",
    "    print(x)"
   ]
  },
  {
   "cell_type": "code",
   "execution_count": 20,
   "id": "ec0817fb",
   "metadata": {},
   "outputs": [
    {
     "name": "stdout",
     "output_type": "stream",
     "text": [
      "Abhi and me studied in same school\n",
      "Santhsoh and me studied in same school\n",
      "Sai and me studied in same school\n",
      "Chakri and me studied in same school\n"
     ]
    }
   ],
   "source": [
    "names = [\"Abhi\",\"Santhsoh\",\"Sai\",\"Chakri\"]\n",
    "for x in names:\n",
    "    print(x + \" and me studied in same school\")"
   ]
  },
  {
   "cell_type": "code",
   "execution_count": 23,
   "id": "15bdb3d0",
   "metadata": {},
   "outputs": [
    {
     "name": "stdout",
     "output_type": "stream",
     "text": [
      "I would like to own a Tata Motors Car\n",
      "I would like to own a Maruti Suzuki Car\n",
      "I would like to own a Hyundai Car\n",
      "I would like to own a Renault Car\n"
     ]
    }
   ],
   "source": [
    "cars = [\"Tata Motors\",\"Maruti Suzuki\",\"Hyundai\",\"Renault\"]\n",
    "for x in cars:\n",
    "    print(\"I would like to own a \"+x +\" Car\")"
   ]
  },
  {
   "cell_type": "code",
   "execution_count": null,
   "id": "2b96a29d",
   "metadata": {},
   "outputs": [],
   "source": []
  }
 ],
 "metadata": {
  "kernelspec": {
   "display_name": "Python 3 (ipykernel)",
   "language": "python",
   "name": "python3"
  },
  "language_info": {
   "codemirror_mode": {
    "name": "ipython",
    "version": 3
   },
   "file_extension": ".py",
   "mimetype": "text/x-python",
   "name": "python",
   "nbconvert_exporter": "python",
   "pygments_lexer": "ipython3",
   "version": "3.11.5"
  }
 },
 "nbformat": 4,
 "nbformat_minor": 5
}
